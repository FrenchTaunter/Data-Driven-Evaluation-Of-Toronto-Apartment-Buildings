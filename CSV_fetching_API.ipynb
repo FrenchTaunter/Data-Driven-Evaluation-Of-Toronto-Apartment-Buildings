{
 "cells": [
  {
   "cell_type": "code",
   "execution_count": 4,
   "id": "059a6017-ce38-444e-9e1c-ccc95eef7b32",
   "metadata": {},
   "outputs": [
    {
     "name": "stdout",
     "output_type": "stream",
     "text": [
      "Downloaded: .\\Pre-2023 Apartment Building Evaluations.csv\n",
      "Downloaded: .\\Apartment Building Evaluations 2023 - current.csv\n"
     ]
    }
   ],
   "source": [
    "import requests\n",
    "import os\n",
    "\n",
    "urls = [\n",
    "    \"https://ckan0.cf.opendata.inter.prod-toronto.ca/dataset/4ef82789-e038-44ef-a478-a8f3590c3eb1/resource/979fb513-5186-41e9-bb23-7b5cc6b89915/download/Pre-2023%20Apartment%20Building%20Evaluations.csv\",\n",
    "    \"https://ckan0.cf.opendata.inter.prod-toronto.ca/dataset/4ef82789-e038-44ef-a478-a8f3590c3eb1/resource/7fa98ab2-7412-43cd-9270-cb44dd75b573/download/Apartment%20Building%20Evaluations%202023%20-%20current.csv\"\n",
    "]\n",
    "\n",
    "save_directory = os.curdir\n",
    "\n",
    "os.makedirs(save_directory, exist_ok = True)\n",
    "\n",
    "filenames = [\n",
    "    \"Pre-2023 Apartment Building Evaluations.csv\",\n",
    "    \"Apartment Building Evaluations 2023 - current.csv\"\n",
    "]\n",
    "\n",
    "for url, filename in zip(urls, filenames):\n",
    "    response = requests.get(url)\n",
    "    file_path = os.path.join(save_directory, filename)\n",
    "    \n",
    "    with open(file_path, 'wb') as file:\n",
    "        file.write(response.content)\n",
    "    \n",
    "    print(f\"Downloaded: {file_path}\")"
   ]
  },
  {
   "cell_type": "code",
   "execution_count": null,
   "id": "357fe0f5-92b1-4571-8730-1a41844848c5",
   "metadata": {},
   "outputs": [],
   "source": []
  }
 ],
 "metadata": {
  "kernelspec": {
   "display_name": "Python 3 (ipykernel)",
   "language": "python",
   "name": "python3"
  },
  "language_info": {
   "codemirror_mode": {
    "name": "ipython",
    "version": 3
   },
   "file_extension": ".py",
   "mimetype": "text/x-python",
   "name": "python",
   "nbconvert_exporter": "python",
   "pygments_lexer": "ipython3",
   "version": "3.9.21"
  }
 },
 "nbformat": 4,
 "nbformat_minor": 5
}
